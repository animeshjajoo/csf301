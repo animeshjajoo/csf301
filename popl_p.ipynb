{
  "nbformat": 4,
  "nbformat_minor": 0,
  "metadata": {
    "colab": {
      "provenance": []
    },
    "kernelspec": {
      "name": "python3",
      "display_name": "Python 3"
    },
    "language_info": {
      "name": "python"
    }
  },
  "cells": [
    {
      "cell_type": "code",
      "source": [
        "!pip install pmdarima"
      ],
      "metadata": {
        "colab": {
          "base_uri": "https://localhost:8080/"
        },
        "id": "P8kUmswOCUpj",
        "outputId": "6e13d72d-5212-43e8-b6fa-d1a230b4957d"
      },
      "execution_count": 81,
      "outputs": [
        {
          "output_type": "stream",
          "name": "stdout",
          "text": [
            "Collecting pmdarima\n",
            "  Downloading pmdarima-2.0.4-cp310-cp310-manylinux_2_17_x86_64.manylinux2014_x86_64.manylinux_2_28_x86_64.whl (2.1 MB)\n",
            "\u001b[2K     \u001b[90m━━━━━━━━━━━━━━━━━━━━━━━━━━━━━━━━━━━━━━━━\u001b[0m \u001b[32m2.1/2.1 MB\u001b[0m \u001b[31m21.7 MB/s\u001b[0m eta \u001b[36m0:00:00\u001b[0m\n",
            "\u001b[?25hRequirement already satisfied: joblib>=0.11 in /usr/local/lib/python3.10/dist-packages (from pmdarima) (1.3.2)\n",
            "Requirement already satisfied: Cython!=0.29.18,!=0.29.31,>=0.29 in /usr/local/lib/python3.10/dist-packages (from pmdarima) (3.0.4)\n",
            "Requirement already satisfied: numpy>=1.21.2 in /usr/local/lib/python3.10/dist-packages (from pmdarima) (1.23.5)\n",
            "Requirement already satisfied: pandas>=0.19 in /usr/local/lib/python3.10/dist-packages (from pmdarima) (1.5.3)\n",
            "Requirement already satisfied: scikit-learn>=0.22 in /usr/local/lib/python3.10/dist-packages (from pmdarima) (1.2.2)\n",
            "Requirement already satisfied: scipy>=1.3.2 in /usr/local/lib/python3.10/dist-packages (from pmdarima) (1.11.3)\n",
            "Requirement already satisfied: statsmodels>=0.13.2 in /usr/local/lib/python3.10/dist-packages (from pmdarima) (0.14.0)\n",
            "Requirement already satisfied: urllib3 in /usr/local/lib/python3.10/dist-packages (from pmdarima) (2.0.7)\n",
            "Requirement already satisfied: setuptools!=50.0.0,>=38.6.0 in /usr/local/lib/python3.10/dist-packages (from pmdarima) (67.7.2)\n",
            "Requirement already satisfied: packaging>=17.1 in /usr/local/lib/python3.10/dist-packages (from pmdarima) (23.2)\n",
            "Requirement already satisfied: python-dateutil>=2.8.1 in /usr/local/lib/python3.10/dist-packages (from pandas>=0.19->pmdarima) (2.8.2)\n",
            "Requirement already satisfied: pytz>=2020.1 in /usr/local/lib/python3.10/dist-packages (from pandas>=0.19->pmdarima) (2023.3.post1)\n",
            "Requirement already satisfied: threadpoolctl>=2.0.0 in /usr/local/lib/python3.10/dist-packages (from scikit-learn>=0.22->pmdarima) (3.2.0)\n",
            "Requirement already satisfied: patsy>=0.5.2 in /usr/local/lib/python3.10/dist-packages (from statsmodels>=0.13.2->pmdarima) (0.5.3)\n",
            "Requirement already satisfied: six in /usr/local/lib/python3.10/dist-packages (from patsy>=0.5.2->statsmodels>=0.13.2->pmdarima) (1.16.0)\n",
            "Installing collected packages: pmdarima\n",
            "Successfully installed pmdarima-2.0.4\n"
          ]
        }
      ]
    },
    {
      "cell_type": "code",
      "execution_count": 88,
      "metadata": {
        "id": "7nYJLrrp7T_Q"
      },
      "outputs": [],
      "source": [
        "import csv\n",
        "import time\n",
        "from statsmodels.tsa.ar_model import AutoReg\n",
        "from pmdarima import auto_arima\n",
        "from sklearn.metrics import mean_squared_error\n",
        "from math import sqrt\n",
        "import pandas as pd"
      ]
    },
    {
      "cell_type": "code",
      "source": [
        "start_data_processing = time.time()\n",
        "df = pd.read_csv(r\"data1.csv\", header=None)"
      ],
      "metadata": {
        "id": "DTd60N_U7fkR"
      },
      "execution_count": 89,
      "outputs": []
    },
    {
      "cell_type": "code",
      "source": [
        "initialvalues = df.iloc[:, 0]\n",
        "actualvalues = df.iloc[:, 1]"
      ],
      "metadata": {
        "id": "8Y0BN7-k_Z4r"
      },
      "execution_count": 90,
      "outputs": []
    },
    {
      "cell_type": "code",
      "source": [
        "initialvalues = initialvalues.astype(str).tolist()\n",
        "actualvalues = actualvalues.astype(str).tolist()\n",
        "end_data_processing = time.time()"
      ],
      "metadata": {
        "id": "6NBYrCWS_beU"
      },
      "execution_count": 91,
      "outputs": []
    },
    {
      "cell_type": "code",
      "source": [
        "data_processing_time = end_data_processing - start_data_processing\n",
        "print(f\"Time taken for data processing: {data_processing_time} seconds\")"
      ],
      "metadata": {
        "colab": {
          "base_uri": "https://localhost:8080/"
        },
        "id": "dhX7cGJKAFY6",
        "outputId": "a7c87b28-d314-4b34-f97d-43711917a277"
      },
      "execution_count": 92,
      "outputs": [
        {
          "output_type": "stream",
          "name": "stdout",
          "text": [
            "Time taken for data processing: 1.393850564956665 seconds\n"
          ]
        }
      ]
    },
    {
      "cell_type": "code",
      "source": [
        "start_ar_process = time.time()"
      ],
      "metadata": {
        "id": "ZJpUe748AKaq"
      },
      "execution_count": 93,
      "outputs": []
    },
    {
      "cell_type": "code",
      "source": [
        "# Fit the AR(1) model\n",
        "model = AutoReg(initialvalues, lags=1)\n",
        "model_fit = model.fit()"
      ],
      "metadata": {
        "id": "ij3APDw88ufs"
      },
      "execution_count": 94,
      "outputs": []
    },
    {
      "cell_type": "code",
      "source": [
        "# Make predictions\n",
        "predictions = model_fit.predict(start=len(initialvalues), end=len(initialvalues) + len(actualvalues) - 1)\n",
        "end_ar_process = time.time()"
      ],
      "metadata": {
        "id": "yXgMn0LS_J-B"
      },
      "execution_count": 95,
      "outputs": []
    },
    {
      "cell_type": "code",
      "source": [
        "print(predictions)"
      ],
      "metadata": {
        "colab": {
          "base_uri": "https://localhost:8080/"
        },
        "id": "_F1H0Umo_Og-",
        "outputId": "8b5da6e3-8fe1-44fe-af5f-398fde1b0236"
      },
      "execution_count": 96,
      "outputs": [
        {
          "output_type": "stream",
          "name": "stdout",
          "text": [
            "[28869.20733587 28890.62426452 28911.96201774 28933.22088823\n",
            " 28954.40116761 28975.50314642 28996.52711413 29017.47335913\n",
            " 29038.34216875 29059.13382926 29079.84862587 29100.48684273\n",
            " 29121.04876296 29141.5346686  29161.94484067 29182.27955916\n",
            " 29202.539103   29222.72375009 29242.83377734 29262.86946058\n",
            " 29282.83107467 29302.71889343 29322.53318966 29342.27423518\n",
            " 29361.94230077 29381.53765624 29401.06057038 29420.51131101\n",
            " 29439.89014492 29459.19733797 29478.43315498 29497.59785983\n",
            " 29516.69171542 29535.71498365 29554.66792548 29573.55080091\n",
            " 29592.36386895 29611.10738767 29629.78161419 29648.38680467\n",
            " 29666.92321433 29685.39109743 29703.79070733 29722.1222964\n",
            " 29740.38611612 29758.58241702 29776.7114487  29794.77345985\n",
            " 29812.76869824 29830.69741072 29848.55984322 29866.35624077\n",
            " 29884.0868475  29901.75190661 29919.35166045 29936.88635042\n",
            " 29954.35621706 29971.76150001 29989.10243804 30006.37926901\n",
            " 30023.59222992 30040.74155688 30057.82748515 30074.85024911\n",
            " 30091.81008225 30108.70721723 30125.54188583 30142.31431898\n",
            " 30159.02474677 30175.67339841 30192.26050228 30208.78628591\n",
            " 30225.250976   30241.65479841 30257.99797815 30274.2807394\n",
            " 30290.50330554 30306.66589908 30322.76874175 30338.81205443\n",
            " 30354.7960572  30370.72096931 30386.58700922 30402.39439457\n",
            " 30418.1433422  30433.83406814 30449.46678763 30465.04171511\n",
            " 30480.55906424 30496.01904787 30511.42187807 30526.76776613\n",
            " 30542.05692256 30557.28955709 30572.46587868 30587.58609549\n",
            " 30602.65041495 30617.6590437  30632.61218762 30647.51005183\n",
            " 30662.35284069 30677.14075781 30691.87400603 30706.55278748\n",
            " 30721.17730349 30735.74775468 30750.26434093 30764.72726136\n",
            " 30779.13671437 30793.49289762 30807.79600804 30822.04624184\n",
            " 30836.24379448 30850.38886074 30864.48163463 30878.52230948\n",
            " 30892.5110779  30906.44813177 30920.33366227 30934.16785989\n",
            " 30947.95091438 30961.68301482 30975.36434959 30988.99510634\n",
            " 31002.57547207 31016.10563306 31029.58577491 31043.01608254\n",
            " 31056.39674017 31069.72793136 31083.00983897 31096.2426452\n",
            " 31109.42653157 31122.56167894 31135.64826748 31148.6864767\n",
            " 31161.67648547 31174.61847196 31187.51261372 31200.35908761\n",
            " 31213.15806986 31225.90973604 31238.61426107 31251.27181922\n",
            " 31263.88258413 31276.44672877 31288.96442551 31301.43584605\n",
            " 31313.86116147 31326.24054222 31338.5741581  31350.8621783\n",
            " 31363.10477139 31375.3021053  31387.45434736 31399.56166424\n",
            " 31411.62422205 31423.64218625 31435.61572169 31447.54499262\n",
            " 31459.43016269 31471.27139492 31483.06885174 31494.822695\n",
            " 31506.53308592 31518.20018514 31529.82415271 31541.40514807\n",
            " 31552.94333009 31564.43885704 31575.89188662 31587.30257592\n",
            " 31598.67108148 31609.99755925 31621.28216458 31632.52505229\n",
            " 31643.7263766  31654.88629115 31666.00494904]\n"
          ]
        }
      ]
    },
    {
      "cell_type": "code",
      "source": [
        "ar_process_time = end_ar_process - start_ar_process\n",
        "print(f\"Time taken for AR(1) process: {ar_process_time} seconds\")"
      ],
      "metadata": {
        "colab": {
          "base_uri": "https://localhost:8080/"
        },
        "id": "HfufZNb_AQr0",
        "outputId": "06c04d0c-670a-49f7-aa1b-329264a6cd9b"
      },
      "execution_count": 97,
      "outputs": [
        {
          "output_type": "stream",
          "name": "stdout",
          "text": [
            "Time taken for AR(1) process: 1.5102550983428955 seconds\n"
          ]
        }
      ]
    },
    {
      "cell_type": "code",
      "source": [
        "def calculate_accuracy(predicted, actual):\n",
        "    actual = [float(x) for x in actual]  # Convert 'actual' to float type\n",
        "    differences = [abs(p - a) for p, a in zip(predicted, actual)]\n",
        "    avg_difference = sum(differences) / len(differences)\n",
        "    max_abs_actual = max(map(abs, actual))\n",
        "    accuracy = 1.0 - (avg_difference / max_abs_actual)\n",
        "    return accuracy"
      ],
      "metadata": {
        "id": "5fHoLI6r_eO1"
      },
      "execution_count": 98,
      "outputs": []
    },
    {
      "cell_type": "code",
      "source": [
        "accuracy = calculate_accuracy(predictions, actualvalues)\n",
        "print(f\"Accuracy: {accuracy}\")"
      ],
      "metadata": {
        "colab": {
          "base_uri": "https://localhost:8080/"
        },
        "id": "drja5s9T_lcH",
        "outputId": "61d43bdb-de7f-4a9f-8f4c-34f6a19f2e71"
      },
      "execution_count": 99,
      "outputs": [
        {
          "output_type": "stream",
          "name": "stdout",
          "text": [
            "Accuracy: 0.7294222166869369\n"
          ]
        }
      ]
    },
    {
      "cell_type": "code",
      "source": [
        "start_ma_process = time.time()"
      ],
      "metadata": {
        "id": "qKvJGLQkAWJw"
      },
      "execution_count": 100,
      "outputs": []
    },
    {
      "cell_type": "code",
      "source": [
        "# Fit the MA(1) model\n",
        "ma_model = auto_arima(initialvalues, start_p=0, d=None, start_q=1, max_p=0, max_q=1, seasonal=False, stepwise=True, suppress_warnings=True, error_action='ignore')\n",
        "ma_model_fit = ma_model.fit(initialvalues)"
      ],
      "metadata": {
        "id": "szAM5wFEBLqD"
      },
      "execution_count": 101,
      "outputs": []
    },
    {
      "cell_type": "code",
      "source": [
        "# Make predictions\n",
        "predictions = ma_model_fit.predict(start=len(initialvalues), end=len(initialvalues) + len(actualvalues) - 1)\n",
        "end_ma_process = time.time()"
      ],
      "metadata": {
        "id": "csoFpyqoBOWK"
      },
      "execution_count": 102,
      "outputs": []
    },
    {
      "cell_type": "code",
      "source": [
        "ma_process_time = end_ma_process - start_ma_process\n",
        "print(f\"Time taken for MA(1) process: {ma_process_time} seconds\")"
      ],
      "metadata": {
        "colab": {
          "base_uri": "https://localhost:8080/"
        },
        "id": "zAXp13XYBQ3Q",
        "outputId": "53bfae18-b901-4ce9-e79f-2cf916dca65e"
      },
      "execution_count": 103,
      "outputs": [
        {
          "output_type": "stream",
          "name": "stdout",
          "text": [
            "Time taken for MA(1) process: 1.781944751739502 seconds\n"
          ]
        }
      ]
    },
    {
      "cell_type": "code",
      "source": [
        "print(predictions)"
      ],
      "metadata": {
        "colab": {
          "base_uri": "https://localhost:8080/"
        },
        "id": "es7N15UZC9Gi",
        "outputId": "ee140740-fe72-4b41-9631-7df6b2be4ff1"
      },
      "execution_count": 105,
      "outputs": [
        {
          "output_type": "stream",
          "name": "stdout",
          "text": [
            "[28861.02622937 28861.02622937 28861.02622937 28861.02622937\n",
            " 28861.02622937 28861.02622937 28861.02622937 28861.02622937\n",
            " 28861.02622937 28861.02622937]\n"
          ]
        }
      ]
    },
    {
      "cell_type": "code",
      "source": [
        "accuracy = calculate_accuracy(predictions, actualvalues)\n",
        "print(f\"Accuracy: {accuracy}\")"
      ],
      "metadata": {
        "colab": {
          "base_uri": "https://localhost:8080/"
        },
        "id": "rqSc4CEkDTOs",
        "outputId": "58c2ce39-4a7c-44a1-85a6-aedc75f07e87"
      },
      "execution_count": 106,
      "outputs": [
        {
          "output_type": "stream",
          "name": "stdout",
          "text": [
            "Accuracy: 0.9633600386600447\n"
          ]
        }
      ]
    }
  ]
}